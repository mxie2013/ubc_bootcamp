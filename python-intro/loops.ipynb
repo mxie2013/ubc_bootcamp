{
 "metadata": {
  "name": ""
 },
 "nbformat": 3,
 "nbformat_minor": 0,
 "worksheets": [
  {
   "cells": [
    {
     "cell_type": "code",
     "collapsed": false,
     "input": [
      "for vowel in 'aeiou':\n",
      "    print vowel"
     ],
     "language": "python",
     "metadata": {},
     "outputs": [
      {
       "output_type": "stream",
       "stream": "stdout",
       "text": [
        "a\n",
        "e\n",
        "i\n",
        "o\n",
        "u\n"
       ]
      }
     ],
     "prompt_number": 1
    },
    {
     "cell_type": "code",
     "collapsed": false,
     "input": [
      "length = 0\n",
      "for vowel in 'aeiou':\n",
      "    length = length +1\n",
      "    print length"
     ],
     "language": "python",
     "metadata": {},
     "outputs": [
      {
       "output_type": "stream",
       "stream": "stdout",
       "text": [
        "1\n",
        "2\n",
        "3\n",
        "4\n",
        "5\n"
       ]
      }
     ],
     "prompt_number": 2
    },
    {
     "cell_type": "code",
     "collapsed": false,
     "input": [
      "len('aeiou')"
     ],
     "language": "python",
     "metadata": {},
     "outputs": [
      {
       "metadata": {},
       "output_type": "pyout",
       "prompt_number": 3,
       "text": [
        "5"
       ]
      }
     ],
     "prompt_number": 3
    },
    {
     "cell_type": "code",
     "collapsed": false,
     "input": [
      "from ipythonblocks import ImageGrid\n",
      "import colors"
     ],
     "language": "python",
     "metadata": {},
     "outputs": [],
     "prompt_number": 4
    },
    {
     "cell_type": "code",
     "collapsed": false,
     "input": [
      "grid =ImageGrid(6,3)\n",
      "griid.show()"
     ],
     "language": "python",
     "metadata": {},
     "outputs": [
      {
       "ename": "NameError",
       "evalue": "name 'griid' is not defined",
       "output_type": "pyerr",
       "traceback": [
        "\u001b[1;31m---------------------------------------------------------------------------\u001b[0m\n\u001b[1;31mNameError\u001b[0m                                 Traceback (most recent call last)",
        "\u001b[1;32m<ipython-input-5-5b94fbc6b24c>\u001b[0m in \u001b[0;36m<module>\u001b[1;34m()\u001b[0m\n\u001b[0;32m      1\u001b[0m \u001b[0mgrid\u001b[0m \u001b[1;33m=\u001b[0m\u001b[0mImageGrid\u001b[0m\u001b[1;33m(\u001b[0m\u001b[1;36m6\u001b[0m\u001b[1;33m,\u001b[0m\u001b[1;36m3\u001b[0m\u001b[1;33m)\u001b[0m\u001b[1;33m\u001b[0m\u001b[0m\n\u001b[1;32m----> 2\u001b[1;33m \u001b[0mgriid\u001b[0m\u001b[1;33m.\u001b[0m\u001b[0mshow\u001b[0m\u001b[1;33m(\u001b[0m\u001b[1;33m)\u001b[0m\u001b[1;33m\u001b[0m\u001b[0m\n\u001b[0m",
        "\u001b[1;31mNameError\u001b[0m: name 'griid' is not defined"
       ]
      }
     ],
     "prompt_number": 5
    },
    {
     "cell_type": "code",
     "collapsed": false,
     "input": [
      "grid.show()"
     ],
     "language": "python",
     "metadata": {},
     "outputs": [
      {
       "html": [
        "<style type=\"text/css\">table.blockgrid {border: none;} .blockgrid tr {border: none;} .blockgrid td {padding: 0px;} #blocks37ae64ae-2b20-4bbe-a51d-a4441d3a9d95 td {border: 1px solid white;}</style><table id=\"blocks37ae64ae-2b20-4bbe-a51d-a4441d3a9d95\" class=\"blockgrid\"><tbody><tr><td title=\"Index: [0, 2]&#10;Color: (0, 0, 0)\" style=\"width: 20px; height: 20px;background-color: rgb(0, 0, 0);\"></td><td title=\"Index: [1, 2]&#10;Color: (0, 0, 0)\" style=\"width: 20px; height: 20px;background-color: rgb(0, 0, 0);\"></td><td title=\"Index: [2, 2]&#10;Color: (0, 0, 0)\" style=\"width: 20px; height: 20px;background-color: rgb(0, 0, 0);\"></td><td title=\"Index: [3, 2]&#10;Color: (0, 0, 0)\" style=\"width: 20px; height: 20px;background-color: rgb(0, 0, 0);\"></td><td title=\"Index: [4, 2]&#10;Color: (0, 0, 0)\" style=\"width: 20px; height: 20px;background-color: rgb(0, 0, 0);\"></td><td title=\"Index: [5, 2]&#10;Color: (0, 0, 0)\" style=\"width: 20px; height: 20px;background-color: rgb(0, 0, 0);\"></td></tr><tr><td title=\"Index: [0, 1]&#10;Color: (0, 0, 0)\" style=\"width: 20px; height: 20px;background-color: rgb(0, 0, 0);\"></td><td title=\"Index: [1, 1]&#10;Color: (0, 0, 0)\" style=\"width: 20px; height: 20px;background-color: rgb(0, 0, 0);\"></td><td title=\"Index: [2, 1]&#10;Color: (0, 0, 0)\" style=\"width: 20px; height: 20px;background-color: rgb(0, 0, 0);\"></td><td title=\"Index: [3, 1]&#10;Color: (0, 0, 0)\" style=\"width: 20px; height: 20px;background-color: rgb(0, 0, 0);\"></td><td title=\"Index: [4, 1]&#10;Color: (0, 0, 0)\" style=\"width: 20px; height: 20px;background-color: rgb(0, 0, 0);\"></td><td title=\"Index: [5, 1]&#10;Color: (0, 0, 0)\" style=\"width: 20px; height: 20px;background-color: rgb(0, 0, 0);\"></td></tr><tr><td title=\"Index: [0, 0]&#10;Color: (0, 0, 0)\" style=\"width: 20px; height: 20px;background-color: rgb(0, 0, 0);\"></td><td title=\"Index: [1, 0]&#10;Color: (0, 0, 0)\" style=\"width: 20px; height: 20px;background-color: rgb(0, 0, 0);\"></td><td title=\"Index: [2, 0]&#10;Color: (0, 0, 0)\" style=\"width: 20px; height: 20px;background-color: rgb(0, 0, 0);\"></td><td title=\"Index: [3, 0]&#10;Color: (0, 0, 0)\" style=\"width: 20px; height: 20px;background-color: rgb(0, 0, 0);\"></td><td title=\"Index: [4, 0]&#10;Color: (0, 0, 0)\" style=\"width: 20px; height: 20px;background-color: rgb(0, 0, 0);\"></td><td title=\"Index: [5, 0]&#10;Color: (0, 0, 0)\" style=\"width: 20px; height: 20px;background-color: rgb(0, 0, 0);\"></td></tr></tbody></table>"
       ],
       "metadata": {},
       "output_type": "display_data",
       "text": [
        "<IPython.core.display.HTML at 0x5f20470>"
       ]
      }
     ],
     "prompt_number": 6
    },
    {
     "cell_type": "code",
     "collapsed": false,
     "input": [
      "ImageGrid(16,3,fill=(1,0,0))"
     ],
     "language": "python",
     "metadata": {},
     "outputs": [
      {
       "html": [
        "<style type=\"text/css\">table.blockgrid {border: none;} .blockgrid tr {border: none;} .blockgrid td {padding: 0px;} #blocks8d0a63df-447b-4f85-80d1-a851c81613db td {border: 1px solid white;}</style><table id=\"blocks8d0a63df-447b-4f85-80d1-a851c81613db\" class=\"blockgrid\"><tbody><tr><td title=\"Index: [0, 2]&#10;Color: (1, 0, 0)\" style=\"width: 20px; height: 20px;background-color: rgb(1, 0, 0);\"></td><td title=\"Index: [1, 2]&#10;Color: (1, 0, 0)\" style=\"width: 20px; height: 20px;background-color: rgb(1, 0, 0);\"></td><td title=\"Index: [2, 2]&#10;Color: (1, 0, 0)\" style=\"width: 20px; height: 20px;background-color: rgb(1, 0, 0);\"></td><td title=\"Index: [3, 2]&#10;Color: (1, 0, 0)\" style=\"width: 20px; height: 20px;background-color: rgb(1, 0, 0);\"></td><td title=\"Index: [4, 2]&#10;Color: (1, 0, 0)\" style=\"width: 20px; height: 20px;background-color: rgb(1, 0, 0);\"></td><td title=\"Index: [5, 2]&#10;Color: (1, 0, 0)\" style=\"width: 20px; height: 20px;background-color: rgb(1, 0, 0);\"></td><td title=\"Index: [6, 2]&#10;Color: (1, 0, 0)\" style=\"width: 20px; height: 20px;background-color: rgb(1, 0, 0);\"></td><td title=\"Index: [7, 2]&#10;Color: (1, 0, 0)\" style=\"width: 20px; height: 20px;background-color: rgb(1, 0, 0);\"></td><td title=\"Index: [8, 2]&#10;Color: (1, 0, 0)\" style=\"width: 20px; height: 20px;background-color: rgb(1, 0, 0);\"></td><td title=\"Index: [9, 2]&#10;Color: (1, 0, 0)\" style=\"width: 20px; height: 20px;background-color: rgb(1, 0, 0);\"></td><td title=\"Index: [10, 2]&#10;Color: (1, 0, 0)\" style=\"width: 20px; height: 20px;background-color: rgb(1, 0, 0);\"></td><td title=\"Index: [11, 2]&#10;Color: (1, 0, 0)\" style=\"width: 20px; height: 20px;background-color: rgb(1, 0, 0);\"></td><td title=\"Index: [12, 2]&#10;Color: (1, 0, 0)\" style=\"width: 20px; height: 20px;background-color: rgb(1, 0, 0);\"></td><td title=\"Index: [13, 2]&#10;Color: (1, 0, 0)\" style=\"width: 20px; height: 20px;background-color: rgb(1, 0, 0);\"></td><td title=\"Index: [14, 2]&#10;Color: (1, 0, 0)\" style=\"width: 20px; height: 20px;background-color: rgb(1, 0, 0);\"></td><td title=\"Index: [15, 2]&#10;Color: (1, 0, 0)\" style=\"width: 20px; height: 20px;background-color: rgb(1, 0, 0);\"></td></tr><tr><td title=\"Index: [0, 1]&#10;Color: (1, 0, 0)\" style=\"width: 20px; height: 20px;background-color: rgb(1, 0, 0);\"></td><td title=\"Index: [1, 1]&#10;Color: (1, 0, 0)\" style=\"width: 20px; height: 20px;background-color: rgb(1, 0, 0);\"></td><td title=\"Index: [2, 1]&#10;Color: (1, 0, 0)\" style=\"width: 20px; height: 20px;background-color: rgb(1, 0, 0);\"></td><td title=\"Index: [3, 1]&#10;Color: (1, 0, 0)\" style=\"width: 20px; height: 20px;background-color: rgb(1, 0, 0);\"></td><td title=\"Index: [4, 1]&#10;Color: (1, 0, 0)\" style=\"width: 20px; height: 20px;background-color: rgb(1, 0, 0);\"></td><td title=\"Index: [5, 1]&#10;Color: (1, 0, 0)\" style=\"width: 20px; height: 20px;background-color: rgb(1, 0, 0);\"></td><td title=\"Index: [6, 1]&#10;Color: (1, 0, 0)\" style=\"width: 20px; height: 20px;background-color: rgb(1, 0, 0);\"></td><td title=\"Index: [7, 1]&#10;Color: (1, 0, 0)\" style=\"width: 20px; height: 20px;background-color: rgb(1, 0, 0);\"></td><td title=\"Index: [8, 1]&#10;Color: (1, 0, 0)\" style=\"width: 20px; height: 20px;background-color: rgb(1, 0, 0);\"></td><td title=\"Index: [9, 1]&#10;Color: (1, 0, 0)\" style=\"width: 20px; height: 20px;background-color: rgb(1, 0, 0);\"></td><td title=\"Index: [10, 1]&#10;Color: (1, 0, 0)\" style=\"width: 20px; height: 20px;background-color: rgb(1, 0, 0);\"></td><td title=\"Index: [11, 1]&#10;Color: (1, 0, 0)\" style=\"width: 20px; height: 20px;background-color: rgb(1, 0, 0);\"></td><td title=\"Index: [12, 1]&#10;Color: (1, 0, 0)\" style=\"width: 20px; height: 20px;background-color: rgb(1, 0, 0);\"></td><td title=\"Index: [13, 1]&#10;Color: (1, 0, 0)\" style=\"width: 20px; height: 20px;background-color: rgb(1, 0, 0);\"></td><td title=\"Index: [14, 1]&#10;Color: (1, 0, 0)\" style=\"width: 20px; height: 20px;background-color: rgb(1, 0, 0);\"></td><td title=\"Index: [15, 1]&#10;Color: (1, 0, 0)\" style=\"width: 20px; height: 20px;background-color: rgb(1, 0, 0);\"></td></tr><tr><td title=\"Index: [0, 0]&#10;Color: (1, 0, 0)\" style=\"width: 20px; height: 20px;background-color: rgb(1, 0, 0);\"></td><td title=\"Index: [1, 0]&#10;Color: (1, 0, 0)\" style=\"width: 20px; height: 20px;background-color: rgb(1, 0, 0);\"></td><td title=\"Index: [2, 0]&#10;Color: (1, 0, 0)\" style=\"width: 20px; height: 20px;background-color: rgb(1, 0, 0);\"></td><td title=\"Index: [3, 0]&#10;Color: (1, 0, 0)\" style=\"width: 20px; height: 20px;background-color: rgb(1, 0, 0);\"></td><td title=\"Index: [4, 0]&#10;Color: (1, 0, 0)\" style=\"width: 20px; height: 20px;background-color: rgb(1, 0, 0);\"></td><td title=\"Index: [5, 0]&#10;Color: (1, 0, 0)\" style=\"width: 20px; height: 20px;background-color: rgb(1, 0, 0);\"></td><td title=\"Index: [6, 0]&#10;Color: (1, 0, 0)\" style=\"width: 20px; height: 20px;background-color: rgb(1, 0, 0);\"></td><td title=\"Index: [7, 0]&#10;Color: (1, 0, 0)\" style=\"width: 20px; height: 20px;background-color: rgb(1, 0, 0);\"></td><td title=\"Index: [8, 0]&#10;Color: (1, 0, 0)\" style=\"width: 20px; height: 20px;background-color: rgb(1, 0, 0);\"></td><td title=\"Index: [9, 0]&#10;Color: (1, 0, 0)\" style=\"width: 20px; height: 20px;background-color: rgb(1, 0, 0);\"></td><td title=\"Index: [10, 0]&#10;Color: (1, 0, 0)\" style=\"width: 20px; height: 20px;background-color: rgb(1, 0, 0);\"></td><td title=\"Index: [11, 0]&#10;Color: (1, 0, 0)\" style=\"width: 20px; height: 20px;background-color: rgb(1, 0, 0);\"></td><td title=\"Index: [12, 0]&#10;Color: (1, 0, 0)\" style=\"width: 20px; height: 20px;background-color: rgb(1, 0, 0);\"></td><td title=\"Index: [13, 0]&#10;Color: (1, 0, 0)\" style=\"width: 20px; height: 20px;background-color: rgb(1, 0, 0);\"></td><td title=\"Index: [14, 0]&#10;Color: (1, 0, 0)\" style=\"width: 20px; height: 20px;background-color: rgb(1, 0, 0);\"></td><td title=\"Index: [15, 0]&#10;Color: (1, 0, 0)\" style=\"width: 20px; height: 20px;background-color: rgb(1, 0, 0);\"></td></tr></tbody></table>"
       ],
       "metadata": {},
       "output_type": "pyout",
       "prompt_number": 7,
       "text": [
        "<ipythonblocks.ImageGrid at 0x5f205c0>"
       ]
      }
     ],
     "prompt_number": 7
    },
    {
     "cell_type": "code",
     "collapsed": false,
     "input": [
      "range(5)\n",
      "grid = ImageGrid(6,3)\n",
      "for y in range(grid.height):\n",
      "    grid[0,y] = colors.ORANGE\n",
      "    grid.show()"
     ],
     "language": "python",
     "metadata": {},
     "outputs": [
      {
       "html": [
        "<style type=\"text/css\">table.blockgrid {border: none;} .blockgrid tr {border: none;} .blockgrid td {padding: 0px;} #blocks8ab57855-c948-4538-80df-8c29fcf0a07a td {border: 1px solid white;}</style><table id=\"blocks8ab57855-c948-4538-80df-8c29fcf0a07a\" class=\"blockgrid\"><tbody><tr><td title=\"Index: [0, 2]&#10;Color: (0, 0, 0)\" style=\"width: 20px; height: 20px;background-color: rgb(0, 0, 0);\"></td><td title=\"Index: [1, 2]&#10;Color: (0, 0, 0)\" style=\"width: 20px; height: 20px;background-color: rgb(0, 0, 0);\"></td><td title=\"Index: [2, 2]&#10;Color: (0, 0, 0)\" style=\"width: 20px; height: 20px;background-color: rgb(0, 0, 0);\"></td><td title=\"Index: [3, 2]&#10;Color: (0, 0, 0)\" style=\"width: 20px; height: 20px;background-color: rgb(0, 0, 0);\"></td><td title=\"Index: [4, 2]&#10;Color: (0, 0, 0)\" style=\"width: 20px; height: 20px;background-color: rgb(0, 0, 0);\"></td><td title=\"Index: [5, 2]&#10;Color: (0, 0, 0)\" style=\"width: 20px; height: 20px;background-color: rgb(0, 0, 0);\"></td></tr><tr><td title=\"Index: [0, 1]&#10;Color: (0, 0, 0)\" style=\"width: 20px; height: 20px;background-color: rgb(0, 0, 0);\"></td><td title=\"Index: [1, 1]&#10;Color: (0, 0, 0)\" style=\"width: 20px; height: 20px;background-color: rgb(0, 0, 0);\"></td><td title=\"Index: [2, 1]&#10;Color: (0, 0, 0)\" style=\"width: 20px; height: 20px;background-color: rgb(0, 0, 0);\"></td><td title=\"Index: [3, 1]&#10;Color: (0, 0, 0)\" style=\"width: 20px; height: 20px;background-color: rgb(0, 0, 0);\"></td><td title=\"Index: [4, 1]&#10;Color: (0, 0, 0)\" style=\"width: 20px; height: 20px;background-color: rgb(0, 0, 0);\"></td><td title=\"Index: [5, 1]&#10;Color: (0, 0, 0)\" style=\"width: 20px; height: 20px;background-color: rgb(0, 0, 0);\"></td></tr><tr><td title=\"Index: [0, 0]&#10;Color: (255, 127, 0)\" style=\"width: 20px; height: 20px;background-color: rgb(255, 127, 0);\"></td><td title=\"Index: [1, 0]&#10;Color: (0, 0, 0)\" style=\"width: 20px; height: 20px;background-color: rgb(0, 0, 0);\"></td><td title=\"Index: [2, 0]&#10;Color: (0, 0, 0)\" style=\"width: 20px; height: 20px;background-color: rgb(0, 0, 0);\"></td><td title=\"Index: [3, 0]&#10;Color: (0, 0, 0)\" style=\"width: 20px; height: 20px;background-color: rgb(0, 0, 0);\"></td><td title=\"Index: [4, 0]&#10;Color: (0, 0, 0)\" style=\"width: 20px; height: 20px;background-color: rgb(0, 0, 0);\"></td><td title=\"Index: [5, 0]&#10;Color: (0, 0, 0)\" style=\"width: 20px; height: 20px;background-color: rgb(0, 0, 0);\"></td></tr></tbody></table>"
       ],
       "metadata": {},
       "output_type": "display_data",
       "text": [
        "<IPython.core.display.HTML at 0x5fad710>"
       ]
      },
      {
       "html": [
        "<style type=\"text/css\">table.blockgrid {border: none;} .blockgrid tr {border: none;} .blockgrid td {padding: 0px;} #blocks0b63a0f8-6465-43c7-a865-228aa205c37e td {border: 1px solid white;}</style><table id=\"blocks0b63a0f8-6465-43c7-a865-228aa205c37e\" class=\"blockgrid\"><tbody><tr><td title=\"Index: [0, 2]&#10;Color: (0, 0, 0)\" style=\"width: 20px; height: 20px;background-color: rgb(0, 0, 0);\"></td><td title=\"Index: [1, 2]&#10;Color: (0, 0, 0)\" style=\"width: 20px; height: 20px;background-color: rgb(0, 0, 0);\"></td><td title=\"Index: [2, 2]&#10;Color: (0, 0, 0)\" style=\"width: 20px; height: 20px;background-color: rgb(0, 0, 0);\"></td><td title=\"Index: [3, 2]&#10;Color: (0, 0, 0)\" style=\"width: 20px; height: 20px;background-color: rgb(0, 0, 0);\"></td><td title=\"Index: [4, 2]&#10;Color: (0, 0, 0)\" style=\"width: 20px; height: 20px;background-color: rgb(0, 0, 0);\"></td><td title=\"Index: [5, 2]&#10;Color: (0, 0, 0)\" style=\"width: 20px; height: 20px;background-color: rgb(0, 0, 0);\"></td></tr><tr><td title=\"Index: [0, 1]&#10;Color: (255, 127, 0)\" style=\"width: 20px; height: 20px;background-color: rgb(255, 127, 0);\"></td><td title=\"Index: [1, 1]&#10;Color: (0, 0, 0)\" style=\"width: 20px; height: 20px;background-color: rgb(0, 0, 0);\"></td><td title=\"Index: [2, 1]&#10;Color: (0, 0, 0)\" style=\"width: 20px; height: 20px;background-color: rgb(0, 0, 0);\"></td><td title=\"Index: [3, 1]&#10;Color: (0, 0, 0)\" style=\"width: 20px; height: 20px;background-color: rgb(0, 0, 0);\"></td><td title=\"Index: [4, 1]&#10;Color: (0, 0, 0)\" style=\"width: 20px; height: 20px;background-color: rgb(0, 0, 0);\"></td><td title=\"Index: [5, 1]&#10;Color: (0, 0, 0)\" style=\"width: 20px; height: 20px;background-color: rgb(0, 0, 0);\"></td></tr><tr><td title=\"Index: [0, 0]&#10;Color: (255, 127, 0)\" style=\"width: 20px; height: 20px;background-color: rgb(255, 127, 0);\"></td><td title=\"Index: [1, 0]&#10;Color: (0, 0, 0)\" style=\"width: 20px; height: 20px;background-color: rgb(0, 0, 0);\"></td><td title=\"Index: [2, 0]&#10;Color: (0, 0, 0)\" style=\"width: 20px; height: 20px;background-color: rgb(0, 0, 0);\"></td><td title=\"Index: [3, 0]&#10;Color: (0, 0, 0)\" style=\"width: 20px; height: 20px;background-color: rgb(0, 0, 0);\"></td><td title=\"Index: [4, 0]&#10;Color: (0, 0, 0)\" style=\"width: 20px; height: 20px;background-color: rgb(0, 0, 0);\"></td><td title=\"Index: [5, 0]&#10;Color: (0, 0, 0)\" style=\"width: 20px; height: 20px;background-color: rgb(0, 0, 0);\"></td></tr></tbody></table>"
       ],
       "metadata": {},
       "output_type": "display_data",
       "text": [
        "<IPython.core.display.HTML at 0x5de6860>"
       ]
      },
      {
       "html": [
        "<style type=\"text/css\">table.blockgrid {border: none;} .blockgrid tr {border: none;} .blockgrid td {padding: 0px;} #blocksf86e35ff-b093-45fc-8011-9cc160d16927 td {border: 1px solid white;}</style><table id=\"blocksf86e35ff-b093-45fc-8011-9cc160d16927\" class=\"blockgrid\"><tbody><tr><td title=\"Index: [0, 2]&#10;Color: (255, 127, 0)\" style=\"width: 20px; height: 20px;background-color: rgb(255, 127, 0);\"></td><td title=\"Index: [1, 2]&#10;Color: (0, 0, 0)\" style=\"width: 20px; height: 20px;background-color: rgb(0, 0, 0);\"></td><td title=\"Index: [2, 2]&#10;Color: (0, 0, 0)\" style=\"width: 20px; height: 20px;background-color: rgb(0, 0, 0);\"></td><td title=\"Index: [3, 2]&#10;Color: (0, 0, 0)\" style=\"width: 20px; height: 20px;background-color: rgb(0, 0, 0);\"></td><td title=\"Index: [4, 2]&#10;Color: (0, 0, 0)\" style=\"width: 20px; height: 20px;background-color: rgb(0, 0, 0);\"></td><td title=\"Index: [5, 2]&#10;Color: (0, 0, 0)\" style=\"width: 20px; height: 20px;background-color: rgb(0, 0, 0);\"></td></tr><tr><td title=\"Index: [0, 1]&#10;Color: (255, 127, 0)\" style=\"width: 20px; height: 20px;background-color: rgb(255, 127, 0);\"></td><td title=\"Index: [1, 1]&#10;Color: (0, 0, 0)\" style=\"width: 20px; height: 20px;background-color: rgb(0, 0, 0);\"></td><td title=\"Index: [2, 1]&#10;Color: (0, 0, 0)\" style=\"width: 20px; height: 20px;background-color: rgb(0, 0, 0);\"></td><td title=\"Index: [3, 1]&#10;Color: (0, 0, 0)\" style=\"width: 20px; height: 20px;background-color: rgb(0, 0, 0);\"></td><td title=\"Index: [4, 1]&#10;Color: (0, 0, 0)\" style=\"width: 20px; height: 20px;background-color: rgb(0, 0, 0);\"></td><td title=\"Index: [5, 1]&#10;Color: (0, 0, 0)\" style=\"width: 20px; height: 20px;background-color: rgb(0, 0, 0);\"></td></tr><tr><td title=\"Index: [0, 0]&#10;Color: (255, 127, 0)\" style=\"width: 20px; height: 20px;background-color: rgb(255, 127, 0);\"></td><td title=\"Index: [1, 0]&#10;Color: (0, 0, 0)\" style=\"width: 20px; height: 20px;background-color: rgb(0, 0, 0);\"></td><td title=\"Index: [2, 0]&#10;Color: (0, 0, 0)\" style=\"width: 20px; height: 20px;background-color: rgb(0, 0, 0);\"></td><td title=\"Index: [3, 0]&#10;Color: (0, 0, 0)\" style=\"width: 20px; height: 20px;background-color: rgb(0, 0, 0);\"></td><td title=\"Index: [4, 0]&#10;Color: (0, 0, 0)\" style=\"width: 20px; height: 20px;background-color: rgb(0, 0, 0);\"></td><td title=\"Index: [5, 0]&#10;Color: (0, 0, 0)\" style=\"width: 20px; height: 20px;background-color: rgb(0, 0, 0);\"></td></tr></tbody></table>"
       ],
       "metadata": {},
       "output_type": "display_data",
       "text": [
        "<IPython.core.display.HTML at 0x5fad710>"
       ]
      }
     ],
     "prompt_number": 9
    },
    {
     "cell_type": "code",
     "collapsed": false,
     "input": [
      "square = ImageGrid(5,5)\n",
      "for x in range(square.width):\n",
      "    for y in range(x):\n",
      "        square[x, y] = colors.AZURE\n",
      "square.show()"
     ],
     "language": "python",
     "metadata": {},
     "outputs": [
      {
       "html": [
        "<style type=\"text/css\">table.blockgrid {border: none;} .blockgrid tr {border: none;} .blockgrid td {padding: 0px;} #blocksa3dda5d2-eb42-4b61-a023-e1672a5ce4e6 td {border: 1px solid white;}</style><table id=\"blocksa3dda5d2-eb42-4b61-a023-e1672a5ce4e6\" class=\"blockgrid\"><tbody><tr><td title=\"Index: [0, 4]&#10;Color: (0, 0, 0)\" style=\"width: 20px; height: 20px;background-color: rgb(0, 0, 0);\"></td><td title=\"Index: [1, 4]&#10;Color: (0, 0, 0)\" style=\"width: 20px; height: 20px;background-color: rgb(0, 0, 0);\"></td><td title=\"Index: [2, 4]&#10;Color: (0, 0, 0)\" style=\"width: 20px; height: 20px;background-color: rgb(0, 0, 0);\"></td><td title=\"Index: [3, 4]&#10;Color: (0, 0, 0)\" style=\"width: 20px; height: 20px;background-color: rgb(0, 0, 0);\"></td><td title=\"Index: [4, 4]&#10;Color: (0, 0, 0)\" style=\"width: 20px; height: 20px;background-color: rgb(0, 0, 0);\"></td></tr><tr><td title=\"Index: [0, 3]&#10;Color: (0, 0, 0)\" style=\"width: 20px; height: 20px;background-color: rgb(0, 0, 0);\"></td><td title=\"Index: [1, 3]&#10;Color: (0, 0, 0)\" style=\"width: 20px; height: 20px;background-color: rgb(0, 0, 0);\"></td><td title=\"Index: [2, 3]&#10;Color: (0, 0, 0)\" style=\"width: 20px; height: 20px;background-color: rgb(0, 0, 0);\"></td><td title=\"Index: [3, 3]&#10;Color: (0, 0, 0)\" style=\"width: 20px; height: 20px;background-color: rgb(0, 0, 0);\"></td><td title=\"Index: [4, 3]&#10;Color: (0, 127, 255)\" style=\"width: 20px; height: 20px;background-color: rgb(0, 127, 255);\"></td></tr><tr><td title=\"Index: [0, 2]&#10;Color: (0, 0, 0)\" style=\"width: 20px; height: 20px;background-color: rgb(0, 0, 0);\"></td><td title=\"Index: [1, 2]&#10;Color: (0, 0, 0)\" style=\"width: 20px; height: 20px;background-color: rgb(0, 0, 0);\"></td><td title=\"Index: [2, 2]&#10;Color: (0, 0, 0)\" style=\"width: 20px; height: 20px;background-color: rgb(0, 0, 0);\"></td><td title=\"Index: [3, 2]&#10;Color: (0, 127, 255)\" style=\"width: 20px; height: 20px;background-color: rgb(0, 127, 255);\"></td><td title=\"Index: [4, 2]&#10;Color: (0, 127, 255)\" style=\"width: 20px; height: 20px;background-color: rgb(0, 127, 255);\"></td></tr><tr><td title=\"Index: [0, 1]&#10;Color: (0, 0, 0)\" style=\"width: 20px; height: 20px;background-color: rgb(0, 0, 0);\"></td><td title=\"Index: [1, 1]&#10;Color: (0, 0, 0)\" style=\"width: 20px; height: 20px;background-color: rgb(0, 0, 0);\"></td><td title=\"Index: [2, 1]&#10;Color: (0, 127, 255)\" style=\"width: 20px; height: 20px;background-color: rgb(0, 127, 255);\"></td><td title=\"Index: [3, 1]&#10;Color: (0, 127, 255)\" style=\"width: 20px; height: 20px;background-color: rgb(0, 127, 255);\"></td><td title=\"Index: [4, 1]&#10;Color: (0, 127, 255)\" style=\"width: 20px; height: 20px;background-color: rgb(0, 127, 255);\"></td></tr><tr><td title=\"Index: [0, 0]&#10;Color: (0, 0, 0)\" style=\"width: 20px; height: 20px;background-color: rgb(0, 0, 0);\"></td><td title=\"Index: [1, 0]&#10;Color: (0, 127, 255)\" style=\"width: 20px; height: 20px;background-color: rgb(0, 127, 255);\"></td><td title=\"Index: [2, 0]&#10;Color: (0, 127, 255)\" style=\"width: 20px; height: 20px;background-color: rgb(0, 127, 255);\"></td><td title=\"Index: [3, 0]&#10;Color: (0, 127, 255)\" style=\"width: 20px; height: 20px;background-color: rgb(0, 127, 255);\"></td><td title=\"Index: [4, 0]&#10;Color: (0, 127, 255)\" style=\"width: 20px; height: 20px;background-color: rgb(0, 127, 255);\"></td></tr></tbody></table>"
       ],
       "metadata": {},
       "output_type": "display_data",
       "text": [
        "<IPython.core.display.HTML at 0x5f27550>"
       ]
      }
     ],
     "prompt_number": 13
    },
    {
     "cell_type": "code",
     "collapsed": false,
     "input": [
      "for y in range(square.height):\n",
      "    for x in range(y):\n",
      "        square[x, y] = colors.AZURE\n",
      "square.show()"
     ],
     "language": "python",
     "metadata": {},
     "outputs": [
      {
       "html": [
        "<style type=\"text/css\">table.blockgrid {border: none;} .blockgrid tr {border: none;} .blockgrid td {padding: 0px;} #blocks7df12d77-3ea2-4e51-a22d-58df9e393f45 td {border: 1px solid white;}</style><table id=\"blocks7df12d77-3ea2-4e51-a22d-58df9e393f45\" class=\"blockgrid\"><tbody><tr><td title=\"Index: [0, 4]&#10;Color: (0, 127, 255)\" style=\"width: 20px; height: 20px;background-color: rgb(0, 127, 255);\"></td><td title=\"Index: [1, 4]&#10;Color: (0, 127, 255)\" style=\"width: 20px; height: 20px;background-color: rgb(0, 127, 255);\"></td><td title=\"Index: [2, 4]&#10;Color: (0, 127, 255)\" style=\"width: 20px; height: 20px;background-color: rgb(0, 127, 255);\"></td><td title=\"Index: [3, 4]&#10;Color: (0, 127, 255)\" style=\"width: 20px; height: 20px;background-color: rgb(0, 127, 255);\"></td><td title=\"Index: [4, 4]&#10;Color: (0, 0, 0)\" style=\"width: 20px; height: 20px;background-color: rgb(0, 0, 0);\"></td></tr><tr><td title=\"Index: [0, 3]&#10;Color: (0, 127, 255)\" style=\"width: 20px; height: 20px;background-color: rgb(0, 127, 255);\"></td><td title=\"Index: [1, 3]&#10;Color: (0, 127, 255)\" style=\"width: 20px; height: 20px;background-color: rgb(0, 127, 255);\"></td><td title=\"Index: [2, 3]&#10;Color: (0, 127, 255)\" style=\"width: 20px; height: 20px;background-color: rgb(0, 127, 255);\"></td><td title=\"Index: [3, 3]&#10;Color: (0, 0, 0)\" style=\"width: 20px; height: 20px;background-color: rgb(0, 0, 0);\"></td><td title=\"Index: [4, 3]&#10;Color: (0, 0, 0)\" style=\"width: 20px; height: 20px;background-color: rgb(0, 0, 0);\"></td></tr><tr><td title=\"Index: [0, 2]&#10;Color: (0, 127, 255)\" style=\"width: 20px; height: 20px;background-color: rgb(0, 127, 255);\"></td><td title=\"Index: [1, 2]&#10;Color: (0, 127, 255)\" style=\"width: 20px; height: 20px;background-color: rgb(0, 127, 255);\"></td><td title=\"Index: [2, 2]&#10;Color: (0, 0, 0)\" style=\"width: 20px; height: 20px;background-color: rgb(0, 0, 0);\"></td><td title=\"Index: [3, 2]&#10;Color: (0, 0, 0)\" style=\"width: 20px; height: 20px;background-color: rgb(0, 0, 0);\"></td><td title=\"Index: [4, 2]&#10;Color: (0, 0, 0)\" style=\"width: 20px; height: 20px;background-color: rgb(0, 0, 0);\"></td></tr><tr><td title=\"Index: [0, 1]&#10;Color: (0, 127, 255)\" style=\"width: 20px; height: 20px;background-color: rgb(0, 127, 255);\"></td><td title=\"Index: [1, 1]&#10;Color: (0, 0, 0)\" style=\"width: 20px; height: 20px;background-color: rgb(0, 0, 0);\"></td><td title=\"Index: [2, 1]&#10;Color: (0, 0, 0)\" style=\"width: 20px; height: 20px;background-color: rgb(0, 0, 0);\"></td><td title=\"Index: [3, 1]&#10;Color: (0, 0, 0)\" style=\"width: 20px; height: 20px;background-color: rgb(0, 0, 0);\"></td><td title=\"Index: [4, 1]&#10;Color: (0, 0, 0)\" style=\"width: 20px; height: 20px;background-color: rgb(0, 0, 0);\"></td></tr><tr><td title=\"Index: [0, 0]&#10;Color: (0, 0, 0)\" style=\"width: 20px; height: 20px;background-color: rgb(0, 0, 0);\"></td><td title=\"Index: [1, 0]&#10;Color: (0, 0, 0)\" style=\"width: 20px; height: 20px;background-color: rgb(0, 0, 0);\"></td><td title=\"Index: [2, 0]&#10;Color: (0, 0, 0)\" style=\"width: 20px; height: 20px;background-color: rgb(0, 0, 0);\"></td><td title=\"Index: [3, 0]&#10;Color: (0, 0, 0)\" style=\"width: 20px; height: 20px;background-color: rgb(0, 0, 0);\"></td><td title=\"Index: [4, 0]&#10;Color: (0, 0, 0)\" style=\"width: 20px; height: 20px;background-color: rgb(0, 0, 0);\"></td></tr></tbody></table>"
       ],
       "metadata": {},
       "output_type": "display_data",
       "text": [
        "<IPython.core.display.HTML at 0x5f20358>"
       ]
      }
     ],
     "prompt_number": 18
    },
    {
     "cell_type": "code",
     "collapsed": false,
     "input": [],
     "language": "python",
     "metadata": {},
     "outputs": []
    }
   ],
   "metadata": {}
  }
 ]
}